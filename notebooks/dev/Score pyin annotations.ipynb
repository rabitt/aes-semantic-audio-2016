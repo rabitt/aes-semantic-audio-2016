{
 "cells": [
  {
   "cell_type": "code",
   "execution_count": 1,
   "metadata": {
    "collapsed": false
   },
   "outputs": [
    {
     "name": "stderr",
     "output_type": "stream",
     "text": [
      "/usr/local/lib/python2.7/site-packages/sklearn/cross_validation.py:44: DeprecationWarning: This module was deprecated in version 0.18 in favor of the model_selection module into which all the refactored classes and functions are moved. Also note that the interface of the new CV iterators are different from that of this module. This module will be removed in 0.20.\n",
      "  \"This module will be removed in 0.20.\", DeprecationWarning)\n"
     ]
    }
   ],
   "source": [
    "import medleydb as mdb\n",
    "import mir_eval\n",
    "\n",
    "import os\n",
    "import numpy as np\n",
    "import scipy\n",
    "import csv\n",
    "import pandas as pd\n",
    "\n",
    "import matplotlib.pyplot as plt\n",
    "%matplotlib inline"
   ]
  },
  {
   "cell_type": "code",
   "execution_count": 2,
   "metadata": {
    "collapsed": true
   },
   "outputs": [],
   "source": [
    "F_THRESH = 0.8/12.0\n",
    "MIN_CONTOUR_LEN = 0.02\n",
    "\n",
    "HOP = 256.0  # Tony default hop size\n",
    "FS = 44100.0  # Tony default output sample rate\n",
    "\n",
    "SR = FS/HOP\n",
    "# HOP = (1.0/SR) + 0.0001 "
   ]
  },
  {
   "cell_type": "code",
   "execution_count": 3,
   "metadata": {
    "collapsed": false
   },
   "outputs": [
    {
     "data": {
      "text/plain": [
       "0.005804988662131519"
      ]
     },
     "execution_count": 3,
     "metadata": {},
     "output_type": "execute_result"
    }
   ],
   "source": [
    "256.0/44100.0"
   ]
  },
  {
   "cell_type": "code",
   "execution_count": 4,
   "metadata": {
    "collapsed": false
   },
   "outputs": [],
   "source": [
    "def get_time_stamps(total_duration):\n",
    "    \"\"\"Get a list of evenly spaced time stamps based on Tony's parameters.\n",
    "\n",
    "    Parameters\n",
    "    ----------\n",
    "    total_duration : float\n",
    "        Length (in seconds) of annotation's corresponding audio file.\n",
    "\n",
    "    Returns\n",
    "    -------\n",
    "    time_stamps : array\n",
    "        Array of evenly spaced time stamps spanning the entire annotation.\n",
    "    \"\"\"\n",
    "    n_stamps = int(np.ceil((total_duration*FS)/HOP))\n",
    "    return np.arange(n_stamps)*(HOP/FS)\n",
    "\n",
    "\n",
    "def make_blank_f0_sequence(total_duration):\n",
    "    \"\"\"Make a complete f0 sequence filled with 0's.\n",
    "    First column is time, second column is frequency.\n",
    "\n",
    "    Parameters\n",
    "    ----------\n",
    "    total_duration : float\n",
    "        Length (in seconds) of annotation's corresponding audio file.\n",
    "\n",
    "    Returns\n",
    "    -------\n",
    "    f0_sequence : array\n",
    "        Array of filled in f0 values and corresponding time stamps.\n",
    "    \"\"\"\n",
    "    time_stamps = get_time_stamps(total_duration)\n",
    "    f0_sequence = np.zeros((len(time_stamps), 2))\n",
    "    f0_sequence[:, 0] = time_stamps\n",
    "    return f0_sequence\n",
    "\n",
    "\n",
    "def sec_to_idx(time_in_seconds, sample_rate=FS, hop=HOP):\n",
    "    \"\"\"Compute the array index of a given time stamp.\n",
    "\n",
    "    Parameters\n",
    "    ----------\n",
    "    time_in_seconds : float\n",
    "        Time stamp, in seconds.\n",
    "    sample_rate : float\n",
    "        Annotation sample rate.\n",
    "    hop : float\n",
    "        Annotation hop size.\n",
    "\n",
    "    Returns\n",
    "    -------\n",
    "    array_idx : int\n",
    "        Index of time stamp in filled f0 array.\n",
    "    \"\"\"\n",
    "    return int(np.round(time_in_seconds*sample_rate/hop))"
   ]
  },
  {
   "cell_type": "code",
   "execution_count": 5,
   "metadata": {
    "collapsed": true
   },
   "outputs": [],
   "source": [
    "def get_confidence_interpolator(mtrack, stem_idx):\n",
    "    conf = np.array(mtrack.activation_conf_from_stem(stem_idx)).T\n",
    "    conf_interp = scipy.interpolate.interp1d(\n",
    "        conf[0], conf[1], fill_value=0, assume_sorted=True,\n",
    "        bounds_error=False\n",
    "    )\n",
    "    return conf_interp"
   ]
  },
  {
   "cell_type": "code",
   "execution_count": 6,
   "metadata": {
    "collapsed": true
   },
   "outputs": [],
   "source": [
    "def fill_annotation(pitch_annotation, duration,\n",
    "                    confidence_interpolator, activation_filter,\n",
    "                    conf_thresh=0.5):\n",
    "    if duration is None:\n",
    "        duration = np.max(np.array(pitch_annotation).T[0])\n",
    "\n",
    "    start_idx = sec_to_idx(0)\n",
    "    end_idx = sec_to_idx(duration)\n",
    "    f0_sequence = make_blank_f0_sequence(duration)\n",
    "    for time_freq in pitch_annotation:\n",
    "        time = time_freq[0]\n",
    "        if activation_filter:\n",
    "            conf = confidence_interpolator(time)\n",
    "            freq = time_freq[1] if conf >= conf_thresh else 0.0\n",
    "        else:\n",
    "            freq = time_freq[1]\n",
    "\n",
    "        time_idx = sec_to_idx(time)\n",
    "        if time_idx >= start_idx and time_idx < end_idx:\n",
    "            f0_sequence[time_idx][1] = freq\n",
    "    f0_sequence = np.array(f0_sequence)\n",
    "    f0_sequence = f0_sequence.T\n",
    "    times = f0_sequence[0]\n",
    "    freqs = f0_sequence[1]\n",
    "    return times, freqs"
   ]
  },
  {
   "cell_type": "code",
   "execution_count": 7,
   "metadata": {
    "collapsed": false
   },
   "outputs": [],
   "source": [
    "def score_pyin_est(mtrack, activation_filter=True, make_plot=False, conf_thresh=0.5):\n",
    "    all_scores = []\n",
    "    for stem in mtrack.stems.values():\n",
    "        if not (os.path.exists(stem.pitch_path) and os.path.exists(stem.pitch_pyin_path)):\n",
    "            continue\n",
    "        else:\n",
    "            conf_interp = get_confidence_interpolator(mtrack, stem.stem_idx)\n",
    "\n",
    "            ref_times, ref_freqs = fill_annotation(\n",
    "                stem.pitch_annotation, mtrack.duration,\n",
    "                conf_interp, activation_filter, conf_thresh=conf_thresh\n",
    "            )\n",
    "            est_times, est_freqs = fill_annotation(\n",
    "                stem.pitch_estimate_pyin, mtrack.duration,\n",
    "                conf_interp, activation_filter, conf_thresh=conf_thresh\n",
    "            )\n",
    "\n",
    "            if make_plot:\n",
    "                plt.title(stem.instrument)\n",
    "                plt.plot(ref_times, ref_freqs, '.b')\n",
    "                plt.plot(est_times, est_freqs, ',r')\n",
    "                plt.show()\n",
    "\n",
    "            scores = mir_eval.melody.evaluate(ref_times, ref_freqs, est_times, est_freqs)\n",
    "            all_scores.append(scores)\n",
    "\n",
    "    return all_scores"
   ]
  },
  {
   "cell_type": "code",
   "execution_count": 8,
   "metadata": {
    "collapsed": false
   },
   "outputs": [
    {
     "name": "stdout",
     "output_type": "stream",
     "text": [
      "AClassicEducation_NightOwl\n",
      "AimeeNorwich_Child\n",
      "AimeeNorwich_Flying\n",
      "AlexanderRoss_GoodbyeBolero\n",
      "AlexanderRoss_VelvetCurtain\n",
      "AmarLal_Rest\n",
      "AmarLal_SpringDay1\n",
      "Auctioneer_OurFutureFaces\n",
      "AvaLuna_Waterduct\n",
      "BigTroubles_Phantom\n",
      "BrandonWebster_YesSirICanFly\n",
      "CelestialShore_DieForUs\n",
      "ClaraBerryAndWooldog_AirTraffic\n",
      "ClaraBerryAndWooldog_Stella\n",
      "ClaraBerryAndWooldog_WaltzForMyVictims\n",
      "Creepoid_OldTree\n",
      "DreamersOfTheGhetto_HeavyLove\n",
      "EthanHein_1930sSynthAndUprightBass\n",
      "EthanHein_BluesForNofi\n",
      "EthanHein_GirlOnABridge\n",
      "EthanHein_HarmonicaFigure\n",
      "FacesOnFilm_WaitingForGa\n",
      "Grants_PunchDrunk\n",
      "HeladoNegro_MitadDelMundo\n",
      "HezekiahJones_BorrowedHeart\n",
      "HopAlong_SisterCities\n",
      "InvisibleFamiliars_DisturbingWildlife\n",
      "KarimDouaidy_Hopscotch\n",
      "KarimDouaidy_Yatora\n",
      "LizNelson_Coldwar\n",
      "LizNelson_Rainfall\n",
      "Lushlife_ToynbeeSuite\n",
      "MatthewEntwistle_AnEveningWithOliver\n",
      "MatthewEntwistle_DontYouEver\n",
      "MatthewEntwistle_FairerHopes\n",
      "MatthewEntwistle_ImpressionsOfSaturn\n",
      "MatthewEntwistle_TheArch\n",
      "MatthewEntwistle_TheFlaxenField\n",
      "Meaxic_TakeAStep\n",
      "Meaxic_YouListen\n",
      "MusicDelta_80sRock\n",
      "MusicDelta_Beatles\n",
      "MusicDelta_BebopJazz\n",
      "MusicDelta_Beethoven\n",
      "MusicDelta_Britpop\n",
      "MusicDelta_ChineseChaoZhou\n",
      "MusicDelta_ChineseDrama\n",
      "MusicDelta_ChineseHenan\n",
      "MusicDelta_ChineseJiangNan\n",
      "MusicDelta_ChineseXinJing\n",
      "MusicDelta_ChineseYaoZu\n",
      "MusicDelta_CoolJazz\n",
      "MusicDelta_Country1\n",
      "MusicDelta_Country2\n",
      "MusicDelta_Disco\n",
      "MusicDelta_FreeJazz\n",
      "MusicDelta_FunkJazz\n",
      "MusicDelta_FusionJazz\n",
      "MusicDelta_Gospel\n",
      "MusicDelta_GriegTrolltog\n",
      "MusicDelta_Grunge\n",
      "MusicDelta_Hendrix\n",
      "MusicDelta_InTheHalloftheMountainKing\n",
      "MusicDelta_LatinJazz\n",
      "MusicDelta_ModalJazz\n",
      "MusicDelta_Pachelbel\n",
      "MusicDelta_Punk\n",
      "MusicDelta_Reggae\n",
      "MusicDelta_Rock\n",
      "MusicDelta_Rockabilly\n",
      "MusicDelta_Shadows\n",
      "MusicDelta_SpeedMetal\n",
      "MusicDelta_SwingJazz\n",
      "MusicDelta_Vivaldi\n",
      "MusicDelta_Zeppelin\n",
      "NightPanther_Fire\n",
      "PortStWillow_StayEven\n",
      "SecretMountains_HighHorse\n",
      "Snowmine_Curfews\n",
      "StevenClark_Bounty\n",
      "StrandOfOaks_Spacestation\n",
      "SweetLights_YouLetMeDown\n",
      "TablaBreakbeatScience_Animoog\n",
      "TablaBreakbeatScience_CaptainSky\n",
      "TablaBreakbeatScience_MiloVsMongo\n",
      "TablaBreakbeatScience_MoodyPlucks\n",
      "TablaBreakbeatScience_PhaseTransition\n",
      "TablaBreakbeatScience_RockSteady\n",
      "TablaBreakbeatScience_Scorpio\n",
      "TablaBreakbeatScience_Vger\n",
      "TablaBreakbeatScience_WhoIsIt\n",
      "TheDistricts_Vermont\n",
      "TheScarletBrand_LesFleursDuMal\n",
      "TheSoSoGlos_Emergency\n"
     ]
    }
   ],
   "source": [
    "mtracks = mdb.load_all_multitracks(\"V1\")\n",
    "\n",
    "all_scores_activation_filter = []\n",
    "all_scores_no_filter = []\n",
    "for mtrack in mtracks:\n",
    "    if mtrack.has_bleed:\n",
    "        continue\n",
    "\n",
    "    print(mtrack.track_id)\n",
    "    scores_filter = score_pyin_est(mtrack, activation_filter=True)\n",
    "    scores_no_filter = score_pyin_est(mtrack, activation_filter=False)\n",
    "\n",
    "    all_scores_activation_filter.extend(scores_filter)\n",
    "    all_scores_no_filter.extend(scores_no_filter)"
   ]
  },
  {
   "cell_type": "code",
   "execution_count": 10,
   "metadata": {
    "collapsed": false
   },
   "outputs": [],
   "source": [
    "df_filter = pd.DataFrame(all_scores_activation_filter)\n",
    "df_nofilter = pd.DataFrame(all_scores_no_filter)"
   ]
  },
  {
   "cell_type": "code",
   "execution_count": 11,
   "metadata": {
    "collapsed": false
   },
   "outputs": [
    {
     "data": {
      "text/html": [
       "<div>\n",
       "<table border=\"1\" class=\"dataframe\">\n",
       "  <thead>\n",
       "    <tr style=\"text-align: right;\">\n",
       "      <th></th>\n",
       "      <th>Overall Accuracy</th>\n",
       "      <th>Raw Chroma Accuracy</th>\n",
       "      <th>Raw Pitch Accuracy</th>\n",
       "      <th>Voicing False Alarm</th>\n",
       "      <th>Voicing Recall</th>\n",
       "    </tr>\n",
       "  </thead>\n",
       "  <tbody>\n",
       "    <tr>\n",
       "      <th>count</th>\n",
       "      <td>96.000000</td>\n",
       "      <td>96.000000</td>\n",
       "      <td>96.000000</td>\n",
       "      <td>96.000000</td>\n",
       "      <td>96.000000</td>\n",
       "    </tr>\n",
       "    <tr>\n",
       "      <th>mean</th>\n",
       "      <td>0.793635</td>\n",
       "      <td>0.826731</td>\n",
       "      <td>0.802154</td>\n",
       "      <td>0.253236</td>\n",
       "      <td>0.883221</td>\n",
       "    </tr>\n",
       "    <tr>\n",
       "      <th>std</th>\n",
       "      <td>0.129777</td>\n",
       "      <td>0.215207</td>\n",
       "      <td>0.242478</td>\n",
       "      <td>0.158049</td>\n",
       "      <td>0.222430</td>\n",
       "    </tr>\n",
       "    <tr>\n",
       "      <th>min</th>\n",
       "      <td>0.269296</td>\n",
       "      <td>0.054825</td>\n",
       "      <td>0.000000</td>\n",
       "      <td>0.004871</td>\n",
       "      <td>0.100719</td>\n",
       "    </tr>\n",
       "    <tr>\n",
       "      <th>25%</th>\n",
       "      <td>0.742521</td>\n",
       "      <td>0.812641</td>\n",
       "      <td>0.782888</td>\n",
       "      <td>0.144760</td>\n",
       "      <td>0.916579</td>\n",
       "    </tr>\n",
       "    <tr>\n",
       "      <th>50%</th>\n",
       "      <td>0.823278</td>\n",
       "      <td>0.901578</td>\n",
       "      <td>0.889598</td>\n",
       "      <td>0.226096</td>\n",
       "      <td>0.977078</td>\n",
       "    </tr>\n",
       "    <tr>\n",
       "      <th>75%</th>\n",
       "      <td>0.882378</td>\n",
       "      <td>0.958795</td>\n",
       "      <td>0.955565</td>\n",
       "      <td>0.328118</td>\n",
       "      <td>0.989691</td>\n",
       "    </tr>\n",
       "    <tr>\n",
       "      <th>max</th>\n",
       "      <td>0.987860</td>\n",
       "      <td>0.992760</td>\n",
       "      <td>0.992308</td>\n",
       "      <td>0.782133</td>\n",
       "      <td>1.000000</td>\n",
       "    </tr>\n",
       "  </tbody>\n",
       "</table>\n",
       "</div>"
      ],
      "text/plain": [
       "       Overall Accuracy  Raw Chroma Accuracy  Raw Pitch Accuracy  \\\n",
       "count         96.000000            96.000000           96.000000   \n",
       "mean           0.793635             0.826731            0.802154   \n",
       "std            0.129777             0.215207            0.242478   \n",
       "min            0.269296             0.054825            0.000000   \n",
       "25%            0.742521             0.812641            0.782888   \n",
       "50%            0.823278             0.901578            0.889598   \n",
       "75%            0.882378             0.958795            0.955565   \n",
       "max            0.987860             0.992760            0.992308   \n",
       "\n",
       "       Voicing False Alarm  Voicing Recall  \n",
       "count            96.000000       96.000000  \n",
       "mean              0.253236        0.883221  \n",
       "std               0.158049        0.222430  \n",
       "min               0.004871        0.100719  \n",
       "25%               0.144760        0.916579  \n",
       "50%               0.226096        0.977078  \n",
       "75%               0.328118        0.989691  \n",
       "max               0.782133        1.000000  "
      ]
     },
     "execution_count": 11,
     "metadata": {},
     "output_type": "execute_result"
    }
   ],
   "source": [
    "df_filter.describe()"
   ]
  },
  {
   "cell_type": "code",
   "execution_count": 12,
   "metadata": {
    "collapsed": false
   },
   "outputs": [
    {
     "data": {
      "text/html": [
       "<div>\n",
       "<table border=\"1\" class=\"dataframe\">\n",
       "  <thead>\n",
       "    <tr style=\"text-align: right;\">\n",
       "      <th></th>\n",
       "      <th>Overall Accuracy</th>\n",
       "      <th>Raw Chroma Accuracy</th>\n",
       "      <th>Raw Pitch Accuracy</th>\n",
       "      <th>Voicing False Alarm</th>\n",
       "      <th>Voicing Recall</th>\n",
       "    </tr>\n",
       "  </thead>\n",
       "  <tbody>\n",
       "    <tr>\n",
       "      <th>count</th>\n",
       "      <td>96.000000</td>\n",
       "      <td>96.000000</td>\n",
       "      <td>96.000000</td>\n",
       "      <td>96.000000</td>\n",
       "      <td>96.000000</td>\n",
       "    </tr>\n",
       "    <tr>\n",
       "      <th>mean</th>\n",
       "      <td>0.718622</td>\n",
       "      <td>0.827138</td>\n",
       "      <td>0.802726</td>\n",
       "      <td>0.409816</td>\n",
       "      <td>0.884036</td>\n",
       "    </tr>\n",
       "    <tr>\n",
       "      <th>std</th>\n",
       "      <td>0.144496</td>\n",
       "      <td>0.214265</td>\n",
       "      <td>0.241029</td>\n",
       "      <td>0.208167</td>\n",
       "      <td>0.220506</td>\n",
       "    </tr>\n",
       "    <tr>\n",
       "      <th>min</th>\n",
       "      <td>0.239610</td>\n",
       "      <td>0.054427</td>\n",
       "      <td>0.000000</td>\n",
       "      <td>0.021235</td>\n",
       "      <td>0.103844</td>\n",
       "    </tr>\n",
       "    <tr>\n",
       "      <th>25%</th>\n",
       "      <td>0.633791</td>\n",
       "      <td>0.812712</td>\n",
       "      <td>0.783194</td>\n",
       "      <td>0.266211</td>\n",
       "      <td>0.916741</td>\n",
       "    </tr>\n",
       "    <tr>\n",
       "      <th>50%</th>\n",
       "      <td>0.757816</td>\n",
       "      <td>0.901580</td>\n",
       "      <td>0.890338</td>\n",
       "      <td>0.414625</td>\n",
       "      <td>0.977093</td>\n",
       "    </tr>\n",
       "    <tr>\n",
       "      <th>75%</th>\n",
       "      <td>0.806203</td>\n",
       "      <td>0.959467</td>\n",
       "      <td>0.956129</td>\n",
       "      <td>0.558064</td>\n",
       "      <td>0.989691</td>\n",
       "    </tr>\n",
       "    <tr>\n",
       "      <th>max</th>\n",
       "      <td>0.975918</td>\n",
       "      <td>0.992760</td>\n",
       "      <td>0.992308</td>\n",
       "      <td>0.880809</td>\n",
       "      <td>1.000000</td>\n",
       "    </tr>\n",
       "  </tbody>\n",
       "</table>\n",
       "</div>"
      ],
      "text/plain": [
       "       Overall Accuracy  Raw Chroma Accuracy  Raw Pitch Accuracy  \\\n",
       "count         96.000000            96.000000           96.000000   \n",
       "mean           0.718622             0.827138            0.802726   \n",
       "std            0.144496             0.214265            0.241029   \n",
       "min            0.239610             0.054427            0.000000   \n",
       "25%            0.633791             0.812712            0.783194   \n",
       "50%            0.757816             0.901580            0.890338   \n",
       "75%            0.806203             0.959467            0.956129   \n",
       "max            0.975918             0.992760            0.992308   \n",
       "\n",
       "       Voicing False Alarm  Voicing Recall  \n",
       "count            96.000000       96.000000  \n",
       "mean              0.409816        0.884036  \n",
       "std               0.208167        0.220506  \n",
       "min               0.021235        0.103844  \n",
       "25%               0.266211        0.916741  \n",
       "50%               0.414625        0.977093  \n",
       "75%               0.558064        0.989691  \n",
       "max               0.880809        1.000000  "
      ]
     },
     "execution_count": 12,
     "metadata": {},
     "output_type": "execute_result"
    }
   ],
   "source": [
    "df_nofilter.describe()"
   ]
  },
  {
   "cell_type": "code",
   "execution_count": 14,
   "metadata": {
    "collapsed": false
   },
   "outputs": [
    {
     "data": {
      "image/png": "[encoded data removed]",
      "text/plain": [
       "<matplotlib.figure.Figure at 0x111b6bd10>"
      ]
     },
     "metadata": {},
     "output_type": "display_data"
    },
    {
     "data": {
      "image/png": "[encoded data removed]",
      "text/plain": [
       "<matplotlib.figure.Figure at 0x11071bbd0>"
      ]
     },
     "metadata": {},
     "output_type": "display_data"
    },
    {
     "data": {
      "text/plain": [
       "[OrderedDict([('Voicing Recall', 0.97984728017003853),\n",
       "              ('Voicing False Alarm', 0.2144851761630325),\n",
       "              ('Raw Pitch Accuracy', 0.908053215775801),\n",
       "              ('Raw Chroma Accuracy', 0.91230418011493353),\n",
       "              ('Overall Accuracy', 0.83822035619963431)]),\n",
       " OrderedDict([('Voicing Recall', 0.98494780286477301),\n",
       "              ('Voicing False Alarm', 0.057616453794139745),\n",
       "              ('Raw Pitch Accuracy', 0.96309783928137893),\n",
       "              ('Raw Chroma Accuracy', 0.96358339402767657),\n",
       "              ('Overall Accuracy', 0.94816144105099209)])]"
      ]
     },
     "execution_count": 14,
     "metadata": {},
     "output_type": "execute_result"
    }
   ],
   "source": [
    "mtrack = mdb.MultiTrack('AClassicEducation_NightOwl')\n",
    "score_pyin_est(mtrack, activation_filter=True, make_plot=True, conf_thresh=0.5)"
   ]
  },
  {
   "cell_type": "code",
   "execution_count": 20,
   "metadata": {
    "collapsed": true
   },
   "outputs": [],
   "source": [
    "import seaborn as sns\n",
    "sns.set()"
   ]
  },
  {
   "cell_type": "code",
   "execution_count": 24,
   "metadata": {
    "collapsed": false
   },
   "outputs": [
    {
     "name": "stdout",
     "output_type": "stream",
     "text": [
      "['piano']\n",
      "1\n",
      "['female singer']\n",
      "2\n"
     ]
    }
   ],
   "source": [
    "mtrack = mdb.MultiTrack('Adele_SomeoneLikeYou')\n",
    "for s in mtrack.stems.values():\n",
    "    print s.instrument\n",
    "    print s.stem_idx"
   ]
  },
  {
   "cell_type": "code",
   "execution_count": 58,
   "metadata": {
    "collapsed": false
   },
   "outputs": [
    {
     "data": {
      "image/png": "[encoded data removed]",
      "text/plain": [
       "<matplotlib.figure.Figure at 0x110fee410>"
      ]
     },
     "metadata": {},
     "output_type": "display_data"
    }
   ],
   "source": [
    "st = mtrack.stems[2]\n",
    "data = np.array(st.pitch_estimate_pyin)\n",
    "data = data.T\n",
    "t = data[0]\n",
    "f = data[1]\n",
    "\n",
    "plt.figure(figsize=(12, 7))\n",
    "plt.semilogy(t, f, '.', basey=2)\n",
    "plt.xlim(29.9, 34.615)\n",
    "plt.ylim(200, 400)\n",
    "plt.savefig('/Users/rabitt/Desktop/contours.png', format='png')"
   ]
  },
  {
   "cell_type": "code",
   "execution_count": null,
   "metadata": {
    "collapsed": true
   },
   "outputs": [],
   "source": []
  }
 ],
 "metadata": {
  "kernelspec": {
   "display_name": "Python 2",
   "language": "python",
   "name": "python2"
  },
  "language_info": {
   "codemirror_mode": {
    "name": "ipython",
    "version": 2
   },
   "file_extension": ".py",
   "mimetype": "text/x-python",
   "name": "python",
   "nbconvert_exporter": "python",
   "pygments_lexer": "ipython2",
   "version": "2.7.9"
  }
 },
 "nbformat": 4,
 "nbformat_minor": 2
}
