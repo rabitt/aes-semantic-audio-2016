{
 "cells": [
  {
   "cell_type": "code",
   "execution_count": 1,
   "metadata": {
    "collapsed": true
   },
   "outputs": [],
   "source": [
    "import numpy as np\n",
    "import pandas as pd"
   ]
  },
  {
   "cell_type": "markdown",
   "metadata": {},
   "source": [
    "## Select subset of contours from most common instruments"
   ]
  },
  {
   "cell_type": "code",
   "execution_count": 2,
   "metadata": {
    "collapsed": true
   },
   "outputs": [],
   "source": [
    "def create_instbalance_tsne_set(inputfile, outputfile, min_count):\n",
    "    \n",
    "    features = np.load(inputfile)\n",
    "    df = pd.DataFrame(features['instrument'], columns=['instrument'])\n",
    "    inst_counts = df.instrument.value_counts()\n",
    "\n",
    "    list_instrument = []\n",
    "    list_stemid = []\n",
    "    list_component = []\n",
    "    list_features = []\n",
    "    list_trackid = []\n",
    "\n",
    "    for inst in inst_counts.keys():\n",
    "\n",
    "        if inst_counts[inst] >= min_count:\n",
    "\n",
    "            inst_idx = features['instrument']==inst\n",
    "\n",
    "            l_inst = features['instrument'][inst_idx]\n",
    "            l_stem = features['stemid'][inst_idx]\n",
    "            l_comp = features['component'][inst_idx]\n",
    "            l_feat = features['features'][inst_idx]\n",
    "            l_track = features['trackid'][inst_idx]\n",
    "\n",
    "            order = np.arange(len(l_inst))\n",
    "            # Note: random selection of contours means the t-SNE\n",
    "            # projection will look different to the one in the paper.\n",
    "            np.random.shuffle(order)\n",
    "            order = order[:min_count]\n",
    "\n",
    "            list_instrument.extend(l_inst[order])\n",
    "            list_stemid.extend(l_stem[order])\n",
    "            list_component.extend(l_comp[order])\n",
    "            list_features.extend(l_feat[order])\n",
    "            list_trackid.extend(l_track[order])\n",
    "            \n",
    "    results = {'instrument': list_instrument, \n",
    "               'stemid': list_stemid, \n",
    "               'component': list_component, \n",
    "               'features': list_features, \n",
    "               'trackid': list_trackid}\n",
    "    \n",
    "    np.savez(outputfile, **results)"
   ]
  },
  {
   "cell_type": "code",
   "execution_count": 3,
   "metadata": {
    "collapsed": false
   },
   "outputs": [],
   "source": [
    "# 800 contours per instrument from 10 most common instruments\n",
    "inputfile = './vizdata/features-newactivations.npz'\n",
    "outputfile = './vizdata/features-instbalance800.npz'\n",
    "\n",
    "create_instbalance_tsne_set(inputfile, outputfile, 800)"
   ]
  },
  {
   "cell_type": "markdown",
   "metadata": {},
   "source": [
    "## Apply t-SNE"
   ]
  },
  {
   "cell_type": "code",
   "execution_count": 4,
   "metadata": {
    "collapsed": false
   },
   "outputs": [
    {
     "name": "stdout",
     "output_type": "stream",
     "text": [
      "/Users/justin/Documents/dev/aes-semantic-audio-2016/experiment-scripts\n"
     ]
    }
   ],
   "source": [
    "cd ../../experiment-scripts/"
   ]
  },
  {
   "cell_type": "code",
   "execution_count": 5,
   "metadata": {
    "collapsed": false
   },
   "outputs": [],
   "source": [
    "from contour_tsne import contour_tsne"
   ]
  },
  {
   "cell_type": "code",
   "execution_count": 6,
   "metadata": {
    "collapsed": false
   },
   "outputs": [
    {
     "name": "stdout",
     "output_type": "stream",
     "text": [
      "/Users/justin/Documents/dev/aes-semantic-audio-2016/notebooks/analysis\n"
     ]
    }
   ],
   "source": [
    "cd ../notebooks/analysis/"
   ]
  },
  {
   "cell_type": "code",
   "execution_count": 7,
   "metadata": {
    "collapsed": true
   },
   "outputs": [],
   "source": [
    "feature_file = './vizdata/features-instbalance800.npz'\n",
    "name_file = './vizdata/feature-names.npz'\n",
    "output_file = './vizdata/tsne_output/instbalance_800_tsne_100_50_5000.npz'"
   ]
  },
  {
   "cell_type": "code",
   "execution_count": 8,
   "metadata": {
    "collapsed": false
   },
   "outputs": [
    {
     "name": "stdout",
     "output_type": "stream",
     "text": [
      "Loading features...\n",
      "Filtering by duration...\n",
      "Standardizing...\n",
      "Computing TSNE projection...\n",
      "Saving results to disk...\n",
      "Done.\n"
     ]
    }
   ],
   "source": [
    "contour_tsne(feature_file, name_file, output_file, perplexity=50.0, n_iter=5000, min_duration=0.1)"
   ]
  },
  {
   "cell_type": "code",
   "execution_count": null,
   "metadata": {
    "collapsed": true
   },
   "outputs": [],
   "source": []
  }
 ],
 "metadata": {
  "kernelspec": {
   "display_name": "Python [conda env:py27]",
   "language": "python",
   "name": "conda-env-py27-py"
  },
  "language_info": {
   "codemirror_mode": {
    "name": "ipython",
    "version": 2
   },
   "file_extension": ".py",
   "mimetype": "text/x-python",
   "name": "python",
   "nbconvert_exporter": "python",
   "pygments_lexer": "ipython2",
   "version": "2.7.12"
  }
 },
 "nbformat": 4,
 "nbformat_minor": 1
}
