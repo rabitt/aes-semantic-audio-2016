{
 "cells": [
  {
   "cell_type": "code",
   "execution_count": 26,
   "metadata": {
    "collapsed": true
   },
   "outputs": [],
   "source": [
    "%matplotlib inline\n",
    "import matplotlib.pyplot as plt\n",
    "import numpy as np\n",
    "import pandas as pd\n",
    "import seaborn as sns"
   ]
  },
  {
   "cell_type": "code",
   "execution_count": 11,
   "metadata": {
    "collapsed": true
   },
   "outputs": [],
   "source": [
    "contour_file = './vizdata/features-newactivations.npz'\n",
    "namefile = './vizdata/feature-names.npz'"
   ]
  },
  {
   "cell_type": "code",
   "execution_count": 12,
   "metadata": {
    "collapsed": true
   },
   "outputs": [],
   "source": [
    "features = np.load(contour_file)\n",
    "names = np.load(namefile)"
   ]
  },
  {
   "cell_type": "code",
   "execution_count": 17,
   "metadata": {
    "collapsed": false
   },
   "outputs": [],
   "source": [
    "df = pd.DataFrame(features['features'], columns=names['feature_names'])"
   ]
  },
  {
   "cell_type": "code",
   "execution_count": 18,
   "metadata": {
    "collapsed": false
   },
   "outputs": [
    {
     "data": {
      "text/html": [
       "<div>\n",
       "<table border=\"1\" class=\"dataframe\">\n",
       "  <thead>\n",
       "    <tr style=\"text-align: right;\">\n",
       "      <th></th>\n",
       "      <th>vibrato rate</th>\n",
       "      <th>vibrato extent</th>\n",
       "      <th>vibrato coverage</th>\n",
       "      <th>vibrato coverage - beginning</th>\n",
       "      <th>vibrato coverage - middle</th>\n",
       "      <th>vibrato coverage - end</th>\n",
       "      <th>0th polynomial coeff - freq</th>\n",
       "      <th>1st polynomial coeff - freq</th>\n",
       "      <th>2nd polynomial coeff - freq</th>\n",
       "      <th>3rd polynomial coeff - freq</th>\n",
       "      <th>...</th>\n",
       "      <th>4th polynomial coeff - salience</th>\n",
       "      <th>5th polynomial coeff - salience</th>\n",
       "      <th>polynomial fit residual - salience</th>\n",
       "      <th>duration</th>\n",
       "      <th>pitch stddev (cents)</th>\n",
       "      <th>pitch range (cents)</th>\n",
       "      <th>pitch average variation</th>\n",
       "      <th>salience stdev</th>\n",
       "      <th>salience range</th>\n",
       "      <th>salience average variation</th>\n",
       "    </tr>\n",
       "  </thead>\n",
       "  <tbody>\n",
       "    <tr>\n",
       "      <th>count</th>\n",
       "      <td>109294.000000</td>\n",
       "      <td>109294.000000</td>\n",
       "      <td>109294.000000</td>\n",
       "      <td>109294.000000</td>\n",
       "      <td>109294.000000</td>\n",
       "      <td>109294.000000</td>\n",
       "      <td>109294.000000</td>\n",
       "      <td>109294.000000</td>\n",
       "      <td>1.092940e+05</td>\n",
       "      <td>1.092940e+05</td>\n",
       "      <td>...</td>\n",
       "      <td>1.092940e+05</td>\n",
       "      <td>1.092940e+05</td>\n",
       "      <td>1.092940e+05</td>\n",
       "      <td>109294.000000</td>\n",
       "      <td>109294.000000</td>\n",
       "      <td>109294.000000</td>\n",
       "      <td>109294.000000</td>\n",
       "      <td>109294.000000</td>\n",
       "      <td>109294.000000</td>\n",
       "      <td>109294.000000</td>\n",
       "    </tr>\n",
       "    <tr>\n",
       "      <th>mean</th>\n",
       "      <td>1.716973</td>\n",
       "      <td>3.233347</td>\n",
       "      <td>0.103123</td>\n",
       "      <td>0.097181</td>\n",
       "      <td>0.113290</td>\n",
       "      <td>0.098836</td>\n",
       "      <td>1872.642713</td>\n",
       "      <td>-4.529517</td>\n",
       "      <td>2.482570e+01</td>\n",
       "      <td>1.853698e+04</td>\n",
       "      <td>...</td>\n",
       "      <td>3.138324e+02</td>\n",
       "      <td>-1.528931e+05</td>\n",
       "      <td>2.329854e-01</td>\n",
       "      <td>0.491719</td>\n",
       "      <td>35.857007</td>\n",
       "      <td>131.902657</td>\n",
       "      <td>4.975812</td>\n",
       "      <td>0.056151</td>\n",
       "      <td>0.197224</td>\n",
       "      <td>0.009133</td>\n",
       "    </tr>\n",
       "    <tr>\n",
       "      <th>std</th>\n",
       "      <td>4.809061</td>\n",
       "      <td>10.415331</td>\n",
       "      <td>0.243766</td>\n",
       "      <td>0.250730</td>\n",
       "      <td>0.288554</td>\n",
       "      <td>0.248225</td>\n",
       "      <td>1270.655910</td>\n",
       "      <td>1028.979001</td>\n",
       "      <td>4.440795e+04</td>\n",
       "      <td>6.432736e+06</td>\n",
       "      <td>...</td>\n",
       "      <td>7.045272e+04</td>\n",
       "      <td>1.286989e+07</td>\n",
       "      <td>2.985186e-01</td>\n",
       "      <td>0.854691</td>\n",
       "      <td>43.333258</td>\n",
       "      <td>141.375080</td>\n",
       "      <td>4.821092</td>\n",
       "      <td>0.030099</td>\n",
       "      <td>0.109542</td>\n",
       "      <td>0.003888</td>\n",
       "    </tr>\n",
       "    <tr>\n",
       "      <th>min</th>\n",
       "      <td>0.000000</td>\n",
       "      <td>0.000000</td>\n",
       "      <td>0.000000</td>\n",
       "      <td>0.000000</td>\n",
       "      <td>0.000000</td>\n",
       "      <td>0.000000</td>\n",
       "      <td>-7.925579</td>\n",
       "      <td>-15024.022421</td>\n",
       "      <td>-1.646848e+06</td>\n",
       "      <td>-3.184663e+08</td>\n",
       "      <td>...</td>\n",
       "      <td>-3.166991e+06</td>\n",
       "      <td>-8.471648e+08</td>\n",
       "      <td>5.551115e-17</td>\n",
       "      <td>0.029025</td>\n",
       "      <td>0.006151</td>\n",
       "      <td>0.018453</td>\n",
       "      <td>0.004101</td>\n",
       "      <td>0.000076</td>\n",
       "      <td>0.000156</td>\n",
       "      <td>0.000020</td>\n",
       "    </tr>\n",
       "    <tr>\n",
       "      <th>25%</th>\n",
       "      <td>0.000000</td>\n",
       "      <td>0.000000</td>\n",
       "      <td>0.000000</td>\n",
       "      <td>0.000000</td>\n",
       "      <td>0.000000</td>\n",
       "      <td>0.000000</td>\n",
       "      <td>696.232834</td>\n",
       "      <td>-180.285887</td>\n",
       "      <td>-2.050945e+03</td>\n",
       "      <td>-2.695692e+04</td>\n",
       "      <td>...</td>\n",
       "      <td>-5.686830e+02</td>\n",
       "      <td>-1.663531e+03</td>\n",
       "      <td>3.618851e-02</td>\n",
       "      <td>0.133515</td>\n",
       "      <td>8.680695</td>\n",
       "      <td>37.515292</td>\n",
       "      <td>1.871969</td>\n",
       "      <td>0.034400</td>\n",
       "      <td>0.113632</td>\n",
       "      <td>0.006501</td>\n",
       "    </tr>\n",
       "    <tr>\n",
       "      <th>50%</th>\n",
       "      <td>0.000000</td>\n",
       "      <td>0.000000</td>\n",
       "      <td>0.000000</td>\n",
       "      <td>0.000000</td>\n",
       "      <td>0.000000</td>\n",
       "      <td>0.000000</td>\n",
       "      <td>2022.441327</td>\n",
       "      <td>-3.354619</td>\n",
       "      <td>-5.818458e+00</td>\n",
       "      <td>-5.466706e+01</td>\n",
       "      <td>...</td>\n",
       "      <td>6.328112e-01</td>\n",
       "      <td>1.201244e+00</td>\n",
       "      <td>1.238855e-01</td>\n",
       "      <td>0.255420</td>\n",
       "      <td>20.581346</td>\n",
       "      <td>88.391436</td>\n",
       "      <td>3.599201</td>\n",
       "      <td>0.052423</td>\n",
       "      <td>0.186391</td>\n",
       "      <td>0.008678</td>\n",
       "    </tr>\n",
       "    <tr>\n",
       "      <th>75%</th>\n",
       "      <td>0.000000</td>\n",
       "      <td>0.000000</td>\n",
       "      <td>0.000000</td>\n",
       "      <td>0.000000</td>\n",
       "      <td>0.000000</td>\n",
       "      <td>0.000000</td>\n",
       "      <td>2914.648429</td>\n",
       "      <td>160.756979</td>\n",
       "      <td>1.759994e+03</td>\n",
       "      <td>2.241378e+04</td>\n",
       "      <td>...</td>\n",
       "      <td>2.374835e+02</td>\n",
       "      <td>8.388125e+03</td>\n",
       "      <td>3.171960e-01</td>\n",
       "      <td>0.522449</td>\n",
       "      <td>45.732407</td>\n",
       "      <td>175.890542</td>\n",
       "      <td>6.253105</td>\n",
       "      <td>0.073541</td>\n",
       "      <td>0.268226</td>\n",
       "      <td>0.011239</td>\n",
       "    </tr>\n",
       "    <tr>\n",
       "      <th>max</th>\n",
       "      <td>29.800000</td>\n",
       "      <td>196.181359</td>\n",
       "      <td>1.000000</td>\n",
       "      <td>1.000000</td>\n",
       "      <td>1.000000</td>\n",
       "      <td>1.000000</td>\n",
       "      <td>4790.759187</td>\n",
       "      <td>15009.035969</td>\n",
       "      <td>1.638666e+06</td>\n",
       "      <td>2.860398e+08</td>\n",
       "      <td>...</td>\n",
       "      <td>4.298409e+06</td>\n",
       "      <td>9.010620e+08</td>\n",
       "      <td>5.825187e+00</td>\n",
       "      <td>44.408163</td>\n",
       "      <td>721.920430</td>\n",
       "      <td>2335.626434</td>\n",
       "      <td>59.953680</td>\n",
       "      <td>0.276883</td>\n",
       "      <td>0.792735</td>\n",
       "      <td>0.051978</td>\n",
       "    </tr>\n",
       "  </tbody>\n",
       "</table>\n",
       "<p>8 rows × 28 columns</p>\n",
       "</div>"
      ],
      "text/plain": [
       "        vibrato rate  vibrato extent  vibrato coverage  \\\n",
       "count  109294.000000   109294.000000     109294.000000   \n",
       "mean        1.716973        3.233347          0.103123   \n",
       "std         4.809061       10.415331          0.243766   \n",
       "min         0.000000        0.000000          0.000000   \n",
       "25%         0.000000        0.000000          0.000000   \n",
       "50%         0.000000        0.000000          0.000000   \n",
       "75%         0.000000        0.000000          0.000000   \n",
       "max        29.800000      196.181359          1.000000   \n",
       "\n",
       "       vibrato coverage - beginning  vibrato coverage - middle  \\\n",
       "count                 109294.000000              109294.000000   \n",
       "mean                       0.097181                   0.113290   \n",
       "std                        0.250730                   0.288554   \n",
       "min                        0.000000                   0.000000   \n",
       "25%                        0.000000                   0.000000   \n",
       "50%                        0.000000                   0.000000   \n",
       "75%                        0.000000                   0.000000   \n",
       "max                        1.000000                   1.000000   \n",
       "\n",
       "       vibrato coverage - end  0th polynomial coeff - freq  \\\n",
       "count           109294.000000                109294.000000   \n",
       "mean                 0.098836                  1872.642713   \n",
       "std                  0.248225                  1270.655910   \n",
       "min                  0.000000                    -7.925579   \n",
       "25%                  0.000000                   696.232834   \n",
       "50%                  0.000000                  2022.441327   \n",
       "75%                  0.000000                  2914.648429   \n",
       "max                  1.000000                  4790.759187   \n",
       "\n",
       "       1st polynomial coeff - freq  2nd polynomial coeff - freq  \\\n",
       "count                109294.000000                 1.092940e+05   \n",
       "mean                     -4.529517                 2.482570e+01   \n",
       "std                    1028.979001                 4.440795e+04   \n",
       "min                  -15024.022421                -1.646848e+06   \n",
       "25%                    -180.285887                -2.050945e+03   \n",
       "50%                      -3.354619                -5.818458e+00   \n",
       "75%                     160.756979                 1.759994e+03   \n",
       "max                   15009.035969                 1.638666e+06   \n",
       "\n",
       "       3rd polynomial coeff - freq             ...              \\\n",
       "count                 1.092940e+05             ...               \n",
       "mean                  1.853698e+04             ...               \n",
       "std                   6.432736e+06             ...               \n",
       "min                  -3.184663e+08             ...               \n",
       "25%                  -2.695692e+04             ...               \n",
       "50%                  -5.466706e+01             ...               \n",
       "75%                   2.241378e+04             ...               \n",
       "max                   2.860398e+08             ...               \n",
       "\n",
       "       4th polynomial coeff - salience  5th polynomial coeff - salience  \\\n",
       "count                     1.092940e+05                     1.092940e+05   \n",
       "mean                      3.138324e+02                    -1.528931e+05   \n",
       "std                       7.045272e+04                     1.286989e+07   \n",
       "min                      -3.166991e+06                    -8.471648e+08   \n",
       "25%                      -5.686830e+02                    -1.663531e+03   \n",
       "50%                       6.328112e-01                     1.201244e+00   \n",
       "75%                       2.374835e+02                     8.388125e+03   \n",
       "max                       4.298409e+06                     9.010620e+08   \n",
       "\n",
       "       polynomial fit residual - salience       duration  \\\n",
       "count                        1.092940e+05  109294.000000   \n",
       "mean                         2.329854e-01       0.491719   \n",
       "std                          2.985186e-01       0.854691   \n",
       "min                          5.551115e-17       0.029025   \n",
       "25%                          3.618851e-02       0.133515   \n",
       "50%                          1.238855e-01       0.255420   \n",
       "75%                          3.171960e-01       0.522449   \n",
       "max                          5.825187e+00      44.408163   \n",
       "\n",
       "       pitch stddev (cents)  pitch range (cents)  pitch average variation  \\\n",
       "count         109294.000000        109294.000000            109294.000000   \n",
       "mean              35.857007           131.902657                 4.975812   \n",
       "std               43.333258           141.375080                 4.821092   \n",
       "min                0.006151             0.018453                 0.004101   \n",
       "25%                8.680695            37.515292                 1.871969   \n",
       "50%               20.581346            88.391436                 3.599201   \n",
       "75%               45.732407           175.890542                 6.253105   \n",
       "max              721.920430          2335.626434                59.953680   \n",
       "\n",
       "       salience stdev  salience range  salience average variation  \n",
       "count   109294.000000   109294.000000               109294.000000  \n",
       "mean         0.056151        0.197224                    0.009133  \n",
       "std          0.030099        0.109542                    0.003888  \n",
       "min          0.000076        0.000156                    0.000020  \n",
       "25%          0.034400        0.113632                    0.006501  \n",
       "50%          0.052423        0.186391                    0.008678  \n",
       "75%          0.073541        0.268226                    0.011239  \n",
       "max          0.276883        0.792735                    0.051978  \n",
       "\n",
       "[8 rows x 28 columns]"
      ]
     },
     "execution_count": 18,
     "metadata": {},
     "output_type": "execute_result"
    }
   ],
   "source": [
    "df.describe()"
   ]
  },
  {
   "cell_type": "code",
   "execution_count": 20,
   "metadata": {
    "collapsed": false
   },
   "outputs": [
    {
     "data": {
      "text/plain": [
       "count    109294.000000\n",
       "mean       1872.642713\n",
       "std        1270.655910\n",
       "min          -7.925579\n",
       "25%         696.232834\n",
       "50%        2022.441327\n",
       "75%        2914.648429\n",
       "max        4790.759187\n",
       "Name: 0th polynomial coeff - freq, dtype: float64"
      ]
     },
     "execution_count": 20,
     "metadata": {},
     "output_type": "execute_result"
    }
   ],
   "source": [
    "df['0th polynomial coeff - freq'].describe()"
   ]
  },
  {
   "cell_type": "code",
   "execution_count": 21,
   "metadata": {
    "collapsed": false
   },
   "outputs": [
    {
     "data": {
      "text/plain": [
       "count    109294.000000\n",
       "mean         35.857007\n",
       "std          43.333258\n",
       "min           0.006151\n",
       "25%           8.680695\n",
       "50%          20.581346\n",
       "75%          45.732407\n",
       "max         721.920430\n",
       "Name: pitch stddev (cents), dtype: float64"
      ]
     },
     "execution_count": 21,
     "metadata": {},
     "output_type": "execute_result"
    }
   ],
   "source": [
    "df['pitch stddev (cents)'].describe()"
   ]
  },
  {
   "cell_type": "code",
   "execution_count": 22,
   "metadata": {
    "collapsed": false
   },
   "outputs": [
    {
     "data": {
      "text/plain": [
       "count    109294.000000\n",
       "mean        131.902657\n",
       "std         141.375080\n",
       "min           0.018453\n",
       "25%          37.515292\n",
       "50%          88.391436\n",
       "75%         175.890542\n",
       "max        2335.626434\n",
       "Name: pitch range (cents), dtype: float64"
      ]
     },
     "execution_count": 22,
     "metadata": {},
     "output_type": "execute_result"
    }
   ],
   "source": [
    "df['pitch range (cents)'].describe()"
   ]
  },
  {
   "cell_type": "code",
   "execution_count": 25,
   "metadata": {
    "collapsed": false
   },
   "outputs": [
    {
     "name": "stderr",
     "output_type": "stream",
     "text": [
      "/Users/justin/Documents/dev/miniconda3/envs/py27/lib/python2.7/site-packages/ipykernel/__main__.py:1: FutureWarning: \n",
      "The default value for 'return_type' will change to 'axes' in a future release.\n",
      " To use the future behavior now, set return_type='axes'.\n",
      " To keep the previous behavior and silence this warning, set return_type='dict'.\n",
      "  if __name__ == '__main__':\n"
     ]
    },
    {
     "data": {
      "image/png": "[encoded data removed]",
      "text/plain": [
       "<matplotlib.figure.Figure at 0x11317e150>"
      ]
     },
     "metadata": {},
     "output_type": "display_data"
    }
   ],
   "source": []
  },
  {
   "cell_type": "code",
   "execution_count": 33,
   "metadata": {
    "collapsed": false
   },
   "outputs": [
    {
     "name": "stderr",
     "output_type": "stream",
     "text": [
      "/Users/justin/Documents/dev/miniconda3/envs/py27/lib/python2.7/site-packages/ipykernel/__main__.py:1: FutureWarning: \n",
      "The default value for 'return_type' will change to 'axes' in a future release.\n",
      " To use the future behavior now, set return_type='axes'.\n",
      " To keep the previous behavior and silence this warning, set return_type='dict'.\n",
      "  if __name__ == '__main__':\n"
     ]
    },
    {
     "data": {
      "image/png": "[encoded data removed]",
      "text/plain": [
       "<matplotlib.figure.Figure at 0x117eed610>"
      ]
     },
     "metadata": {},
     "output_type": "display_data"
    }
   ],
   "source": [
    "df[['pitch range (cents)', 'pitch stddev (cents)']].boxplot();"
   ]
  },
  {
   "cell_type": "code",
   "execution_count": 35,
   "metadata": {
    "collapsed": false
   },
   "outputs": [
    {
     "data": {
      "text/plain": [
       "Index([u'vibrato rate', u'vibrato extent', u'vibrato coverage',\n",
       "       u'vibrato coverage - beginning', u'vibrato coverage - middle',\n",
       "       u'vibrato coverage - end', u'0th polynomial coeff - freq',\n",
       "       u'1st polynomial coeff - freq', u'2nd polynomial coeff - freq',\n",
       "       u'3rd polynomial coeff - freq', u'4th polynomial coeff - freq',\n",
       "       u'5th polynomial coeff - freq', u'polynomial fit residual - freq',\n",
       "       u'overall model fit residual - freq',\n",
       "       u'0th polynomial coeff - salience', u'1st polynomial coeff - salience',\n",
       "       u'2nd polynomial coeff - salience', u'3rd polynomial coeff - salience',\n",
       "       u'4th polynomial coeff - salience', u'5th polynomial coeff - salience',\n",
       "       u'polynomial fit residual - salience', u'duration',\n",
       "       u'pitch stddev (cents)', u'pitch range (cents)',\n",
       "       u'pitch average variation', u'salience stdev', u'salience range',\n",
       "       u'salience average variation'],\n",
       "      dtype='object')"
      ]
     },
     "execution_count": 35,
     "metadata": {},
     "output_type": "execute_result"
    }
   ],
   "source": [
    "df.columns"
   ]
  },
  {
   "cell_type": "code",
   "execution_count": 37,
   "metadata": {
    "collapsed": false
   },
   "outputs": [
    {
     "name": "stderr",
     "output_type": "stream",
     "text": [
      "/Users/justin/Documents/dev/miniconda3/envs/py27/lib/python2.7/site-packages/ipykernel/__main__.py:4: FutureWarning: \n",
      "The default value for 'return_type' will change to 'axes' in a future release.\n",
      " To use the future behavior now, set return_type='axes'.\n",
      " To keep the previous behavior and silence this warning, set return_type='dict'.\n"
     ]
    },
    {
     "data": {
      "image/png": "[encoded data removed]",
      "text/plain": [
       "<matplotlib.figure.Figure at 0x1145babd0>"
      ]
     },
     "metadata": {},
     "output_type": "display_data"
    }
   ],
   "source": [
    "df[[u'0th polynomial coeff - freq',\n",
    "       u'1st polynomial coeff - freq', u'duration',\n",
    "       u'pitch stddev (cents)', u'pitch range (cents)',\n",
    "       u'pitch average variation']].boxplot();"
   ]
  },
  {
   "cell_type": "code",
   "execution_count": 41,
   "metadata": {
    "collapsed": false
   },
   "outputs": [
    {
     "name": "stderr",
     "output_type": "stream",
     "text": [
      "/Users/justin/Documents/dev/miniconda3/envs/py27/lib/python2.7/site-packages/ipykernel/__main__.py:3: FutureWarning: \n",
      "The default value for 'return_type' will change to 'axes' in a future release.\n",
      " To use the future behavior now, set return_type='axes'.\n",
      " To keep the previous behavior and silence this warning, set return_type='dict'.\n",
      "  app.launch_new_instance()\n"
     ]
    },
    {
     "data": {
      "text/plain": [
       "(-1000, 1000)"
      ]
     },
     "execution_count": 41,
     "metadata": {},
     "output_type": "execute_result"
    },
    {
     "data": {
      "image/png": "[encoded data removed]",
      "text/plain": [
       "<matplotlib.figure.Figure at 0x117e9b610>"
      ]
     },
     "metadata": {},
     "output_type": "display_data"
    }
   ],
   "source": [
    "df[[u'1st polynomial coeff - freq', u'duration',\n",
    "       u'pitch stddev (cents)', u'pitch range (cents)',\n",
    "       u'pitch average variation']].boxplot();\n",
    "# plt.axis('tight')\n",
    "plt.ylim([-1000, 1000])"
   ]
  },
  {
   "cell_type": "code",
   "execution_count": null,
   "metadata": {
    "collapsed": true
   },
   "outputs": [],
   "source": []
  }
 ],
 "metadata": {
  "anaconda-cloud": {},
  "kernelspec": {
   "display_name": "Python [conda env:py27]",
   "language": "python",
   "name": "conda-env-py27-py"
  },
  "language_info": {
   "codemirror_mode": {
    "name": "ipython",
    "version": 2
   },
   "file_extension": ".py",
   "mimetype": "text/x-python",
   "name": "python",
   "nbconvert_exporter": "python",
   "pygments_lexer": "ipython2",
   "version": "2.7.12"
  }
 },
 "nbformat": 4,
 "nbformat_minor": 1
}
